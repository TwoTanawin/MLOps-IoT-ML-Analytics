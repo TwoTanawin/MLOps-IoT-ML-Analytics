{
 "cells": [
  {
   "cell_type": "code",
   "execution_count": 1,
   "id": "d8dc0d48",
   "metadata": {},
   "outputs": [],
   "source": [
    "import pandas as pd\n",
    "import seaborn as sns\n",
    "import matplotlib.pyplot as plt\n",
    "import os"
   ]
  },
  {
   "cell_type": "code",
   "execution_count": 2,
   "id": "8953430b",
   "metadata": {},
   "outputs": [
    {
     "data": {
      "text/html": [
       "<div>\n",
       "<style scoped>\n",
       "    .dataframe tbody tr th:only-of-type {\n",
       "        vertical-align: middle;\n",
       "    }\n",
       "\n",
       "    .dataframe tbody tr th {\n",
       "        vertical-align: top;\n",
       "    }\n",
       "\n",
       "    .dataframe thead th {\n",
       "        text-align: right;\n",
       "    }\n",
       "</style>\n",
       "<table border=\"1\" class=\"dataframe\">\n",
       "  <thead>\n",
       "    <tr style=\"text-align: right;\">\n",
       "      <th></th>\n",
       "      <th>ph_value</th>\n",
       "      <th>timestamp</th>\n",
       "      <th>status</th>\n",
       "      <th>do_value</th>\n",
       "      <th>temp_value</th>\n",
       "      <th>salinity_value</th>\n",
       "      <th>id</th>\n",
       "      <th>serialNumber</th>\n",
       "    </tr>\n",
       "  </thead>\n",
       "  <tbody>\n",
       "    <tr>\n",
       "      <th>0</th>\n",
       "      <td>6.7</td>\n",
       "      <td>2025-05-09 23:23:43</td>\n",
       "      <td>True</td>\n",
       "      <td>9.73</td>\n",
       "      <td>30.1</td>\n",
       "      <td>256.3</td>\n",
       "      <td>c6b3cf4b-85ab-4250-ad74-0a47bc3e2e80</td>\n",
       "      <td>SN-47F2B3CE</td>\n",
       "    </tr>\n",
       "    <tr>\n",
       "      <th>1</th>\n",
       "      <td>6.7</td>\n",
       "      <td>2025-05-09 23:23:23</td>\n",
       "      <td>True</td>\n",
       "      <td>9.73</td>\n",
       "      <td>30.1</td>\n",
       "      <td>256.3</td>\n",
       "      <td>ec4a8850-173e-4d5a-90a1-a211596fa273</td>\n",
       "      <td>SN-47F2B3CE</td>\n",
       "    </tr>\n",
       "    <tr>\n",
       "      <th>2</th>\n",
       "      <td>6.7</td>\n",
       "      <td>2025-05-09 23:22:38</td>\n",
       "      <td>True</td>\n",
       "      <td>9.73</td>\n",
       "      <td>30.1</td>\n",
       "      <td>258.0</td>\n",
       "      <td>f2379ab4-4d84-4a4b-a402-9b1f0d8f8b2d</td>\n",
       "      <td>SN-47F2B3CE</td>\n",
       "    </tr>\n",
       "    <tr>\n",
       "      <th>3</th>\n",
       "      <td>6.5</td>\n",
       "      <td>2025-05-09 23:29:11</td>\n",
       "      <td>True</td>\n",
       "      <td>9.73</td>\n",
       "      <td>30.1</td>\n",
       "      <td>258.0</td>\n",
       "      <td>85f58ec7-8bd3-4bab-9128-29c01d795305</td>\n",
       "      <td>SN-47F2B3CE</td>\n",
       "    </tr>\n",
       "    <tr>\n",
       "      <th>4</th>\n",
       "      <td>6.8</td>\n",
       "      <td>2025-05-09 23:25:23</td>\n",
       "      <td>True</td>\n",
       "      <td>9.73</td>\n",
       "      <td>30.1</td>\n",
       "      <td>258.0</td>\n",
       "      <td>e85ebb4d-a808-46d0-b57b-d0aa5389fdc2</td>\n",
       "      <td>SN-47F2B3CE</td>\n",
       "    </tr>\n",
       "  </tbody>\n",
       "</table>\n",
       "</div>"
      ],
      "text/plain": [
       "   ph_value            timestamp  status  do_value  temp_value  \\\n",
       "0       6.7  2025-05-09 23:23:43    True      9.73        30.1   \n",
       "1       6.7  2025-05-09 23:23:23    True      9.73        30.1   \n",
       "2       6.7  2025-05-09 23:22:38    True      9.73        30.1   \n",
       "3       6.5  2025-05-09 23:29:11    True      9.73        30.1   \n",
       "4       6.8  2025-05-09 23:25:23    True      9.73        30.1   \n",
       "\n",
       "   salinity_value                                    id serialNumber  \n",
       "0           256.3  c6b3cf4b-85ab-4250-ad74-0a47bc3e2e80  SN-47F2B3CE  \n",
       "1           256.3  ec4a8850-173e-4d5a-90a1-a211596fa273  SN-47F2B3CE  \n",
       "2           258.0  f2379ab4-4d84-4a4b-a402-9b1f0d8f8b2d  SN-47F2B3CE  \n",
       "3           258.0  85f58ec7-8bd3-4bab-9128-29c01d795305  SN-47F2B3CE  \n",
       "4           258.0  e85ebb4d-a808-46d0-b57b-d0aa5389fdc2  SN-47F2B3CE  "
      ]
     },
     "execution_count": 2,
     "metadata": {},
     "output_type": "execute_result"
    }
   ],
   "source": [
    "df_normal = pd.read_csv(\"./aws/raw/sensor_data.csv\")\n",
    "df_normal.head()"
   ]
  },
  {
   "cell_type": "code",
   "execution_count": 3,
   "id": "d0262d0f",
   "metadata": {},
   "outputs": [
    {
     "data": {
      "text/html": [
       "<div>\n",
       "<style scoped>\n",
       "    .dataframe tbody tr th:only-of-type {\n",
       "        vertical-align: middle;\n",
       "    }\n",
       "\n",
       "    .dataframe tbody tr th {\n",
       "        vertical-align: top;\n",
       "    }\n",
       "\n",
       "    .dataframe thead th {\n",
       "        text-align: right;\n",
       "    }\n",
       "</style>\n",
       "<table border=\"1\" class=\"dataframe\">\n",
       "  <thead>\n",
       "    <tr style=\"text-align: right;\">\n",
       "      <th></th>\n",
       "      <th>ph_value</th>\n",
       "      <th>status</th>\n",
       "      <th>do_value</th>\n",
       "      <th>temp_value</th>\n",
       "      <th>salinity_value</th>\n",
       "    </tr>\n",
       "  </thead>\n",
       "  <tbody>\n",
       "    <tr>\n",
       "      <th>0</th>\n",
       "      <td>6.7</td>\n",
       "      <td>True</td>\n",
       "      <td>9.73</td>\n",
       "      <td>30.1</td>\n",
       "      <td>256.3</td>\n",
       "    </tr>\n",
       "    <tr>\n",
       "      <th>1</th>\n",
       "      <td>6.7</td>\n",
       "      <td>True</td>\n",
       "      <td>9.73</td>\n",
       "      <td>30.1</td>\n",
       "      <td>256.3</td>\n",
       "    </tr>\n",
       "    <tr>\n",
       "      <th>2</th>\n",
       "      <td>6.7</td>\n",
       "      <td>True</td>\n",
       "      <td>9.73</td>\n",
       "      <td>30.1</td>\n",
       "      <td>258.0</td>\n",
       "    </tr>\n",
       "    <tr>\n",
       "      <th>3</th>\n",
       "      <td>6.5</td>\n",
       "      <td>True</td>\n",
       "      <td>9.73</td>\n",
       "      <td>30.1</td>\n",
       "      <td>258.0</td>\n",
       "    </tr>\n",
       "    <tr>\n",
       "      <th>4</th>\n",
       "      <td>6.8</td>\n",
       "      <td>True</td>\n",
       "      <td>9.73</td>\n",
       "      <td>30.1</td>\n",
       "      <td>258.0</td>\n",
       "    </tr>\n",
       "  </tbody>\n",
       "</table>\n",
       "</div>"
      ],
      "text/plain": [
       "   ph_value  status  do_value  temp_value  salinity_value\n",
       "0       6.7    True      9.73        30.1           256.3\n",
       "1       6.7    True      9.73        30.1           256.3\n",
       "2       6.7    True      9.73        30.1           258.0\n",
       "3       6.5    True      9.73        30.1           258.0\n",
       "4       6.8    True      9.73        30.1           258.0"
      ]
     },
     "execution_count": 3,
     "metadata": {},
     "output_type": "execute_result"
    }
   ],
   "source": [
    "df_normal = df_normal.drop(['timestamp', 'id', 'serialNumber' ], axis=1)\n",
    "df_normal.head()"
   ]
  },
  {
   "cell_type": "code",
   "execution_count": 4,
   "id": "58c6e6c4",
   "metadata": {},
   "outputs": [
    {
     "data": {
      "text/plain": [
       "[<matplotlib.lines.Line2D at 0x2112dfe5390>,\n",
       " <matplotlib.lines.Line2D at 0x2112dffe590>,\n",
       " <matplotlib.lines.Line2D at 0x2112e010cd0>,\n",
       " <matplotlib.lines.Line2D at 0x2112e011310>,\n",
       " <matplotlib.lines.Line2D at 0x2112e011890>]"
      ]
     },
     "execution_count": 4,
     "metadata": {},
     "output_type": "execute_result"
    },
    {
     "data": {
      "image/png": "[encoded data removed]",
      "text/plain": [
       "<Figure size 640x480 with 1 Axes>"
      ]
     },
     "metadata": {},
     "output_type": "display_data"
    }
   ],
   "source": [
    "plt.plot(df_normal)"
   ]
  },
  {
   "cell_type": "code",
   "execution_count": 5,
   "id": "466ce603",
   "metadata": {},
   "outputs": [],
   "source": [
    "df_normal.to_csv('./aws/filtered/normal.csv', index=False)"
   ]
  },
  {
   "cell_type": "code",
   "execution_count": 6,
   "id": "6a60bbd8",
   "metadata": {},
   "outputs": [
    {
     "data": {
      "text/html": [
       "<div>\n",
       "<style scoped>\n",
       "    .dataframe tbody tr th:only-of-type {\n",
       "        vertical-align: middle;\n",
       "    }\n",
       "\n",
       "    .dataframe tbody tr th {\n",
       "        vertical-align: top;\n",
       "    }\n",
       "\n",
       "    .dataframe thead th {\n",
       "        text-align: right;\n",
       "    }\n",
       "</style>\n",
       "<table border=\"1\" class=\"dataframe\">\n",
       "  <thead>\n",
       "    <tr style=\"text-align: right;\">\n",
       "      <th></th>\n",
       "      <th>ph_value</th>\n",
       "      <th>status</th>\n",
       "      <th>do_value</th>\n",
       "      <th>temp_value</th>\n",
       "      <th>salinity_value</th>\n",
       "    </tr>\n",
       "  </thead>\n",
       "  <tbody>\n",
       "    <tr>\n",
       "      <th>0</th>\n",
       "      <td>12.4</td>\n",
       "      <td>True</td>\n",
       "      <td>9.61</td>\n",
       "      <td>29.0</td>\n",
       "      <td>420.4</td>\n",
       "    </tr>\n",
       "    <tr>\n",
       "      <th>1</th>\n",
       "      <td>12.4</td>\n",
       "      <td>True</td>\n",
       "      <td>9.60</td>\n",
       "      <td>28.9</td>\n",
       "      <td>426.2</td>\n",
       "    </tr>\n",
       "    <tr>\n",
       "      <th>2</th>\n",
       "      <td>12.4</td>\n",
       "      <td>True</td>\n",
       "      <td>9.60</td>\n",
       "      <td>29.0</td>\n",
       "      <td>426.2</td>\n",
       "    </tr>\n",
       "    <tr>\n",
       "      <th>3</th>\n",
       "      <td>12.6</td>\n",
       "      <td>True</td>\n",
       "      <td>9.60</td>\n",
       "      <td>28.9</td>\n",
       "      <td>422.3</td>\n",
       "    </tr>\n",
       "    <tr>\n",
       "      <th>4</th>\n",
       "      <td>12.7</td>\n",
       "      <td>True</td>\n",
       "      <td>9.61</td>\n",
       "      <td>29.0</td>\n",
       "      <td>420.4</td>\n",
       "    </tr>\n",
       "  </tbody>\n",
       "</table>\n",
       "</div>"
      ],
      "text/plain": [
       "   ph_value  status  do_value  temp_value  salinity_value\n",
       "0      12.4    True      9.61        29.0           420.4\n",
       "1      12.4    True      9.60        28.9           426.2\n",
       "2      12.4    True      9.60        29.0           426.2\n",
       "3      12.6    True      9.60        28.9           422.3\n",
       "4      12.7    True      9.61        29.0           420.4"
      ]
     },
     "execution_count": 6,
     "metadata": {},
     "output_type": "execute_result"
    }
   ],
   "source": [
    "df_lowPH = pd.read_csv(\"./aws/raw/sensor_Acidic_Waterdata.csv\")\n",
    "df_lowPH = df_lowPH.drop(['timestamp', 'id', 'serialNumber' ], axis=1)\n",
    "df_lowPH.head()"
   ]
  },
  {
   "cell_type": "code",
   "execution_count": 7,
   "id": "e8c15411",
   "metadata": {},
   "outputs": [],
   "source": [
    "df_lowPH.to_csv('./aws/filtered/low_Ph.csv', index=False)"
   ]
  },
  {
   "cell_type": "code",
   "execution_count": 8,
   "id": "6e515a31",
   "metadata": {},
   "outputs": [
    {
     "data": {
      "text/html": [
       "<div>\n",
       "<style scoped>\n",
       "    .dataframe tbody tr th:only-of-type {\n",
       "        vertical-align: middle;\n",
       "    }\n",
       "\n",
       "    .dataframe tbody tr th {\n",
       "        vertical-align: top;\n",
       "    }\n",
       "\n",
       "    .dataframe thead th {\n",
       "        text-align: right;\n",
       "    }\n",
       "</style>\n",
       "<table border=\"1\" class=\"dataframe\">\n",
       "  <thead>\n",
       "    <tr style=\"text-align: right;\">\n",
       "      <th></th>\n",
       "      <th>ph_value</th>\n",
       "      <th>status</th>\n",
       "      <th>do_value</th>\n",
       "      <th>temp_value</th>\n",
       "      <th>salinity_value</th>\n",
       "    </tr>\n",
       "  </thead>\n",
       "  <tbody>\n",
       "    <tr>\n",
       "      <th>0</th>\n",
       "      <td>9.4</td>\n",
       "      <td>True</td>\n",
       "      <td>9.62</td>\n",
       "      <td>27.8</td>\n",
       "      <td>136.0</td>\n",
       "    </tr>\n",
       "    <tr>\n",
       "      <th>1</th>\n",
       "      <td>9.5</td>\n",
       "      <td>True</td>\n",
       "      <td>9.61</td>\n",
       "      <td>27.8</td>\n",
       "      <td>165.9</td>\n",
       "    </tr>\n",
       "    <tr>\n",
       "      <th>2</th>\n",
       "      <td>6.7</td>\n",
       "      <td>True</td>\n",
       "      <td>9.62</td>\n",
       "      <td>27.9</td>\n",
       "      <td>169.4</td>\n",
       "    </tr>\n",
       "    <tr>\n",
       "      <th>3</th>\n",
       "      <td>7.2</td>\n",
       "      <td>True</td>\n",
       "      <td>9.62</td>\n",
       "      <td>27.9</td>\n",
       "      <td>174.5</td>\n",
       "    </tr>\n",
       "    <tr>\n",
       "      <th>4</th>\n",
       "      <td>13.4</td>\n",
       "      <td>True</td>\n",
       "      <td>9.62</td>\n",
       "      <td>27.8</td>\n",
       "      <td>136.0</td>\n",
       "    </tr>\n",
       "  </tbody>\n",
       "</table>\n",
       "</div>"
      ],
      "text/plain": [
       "   ph_value  status  do_value  temp_value  salinity_value\n",
       "0       9.4    True      9.62        27.8           136.0\n",
       "1       9.5    True      9.61        27.8           165.9\n",
       "2       6.7    True      9.62        27.9           169.4\n",
       "3       7.2    True      9.62        27.9           174.5\n",
       "4      13.4    True      9.62        27.8           136.0"
      ]
     },
     "execution_count": 8,
     "metadata": {},
     "output_type": "execute_result"
    }
   ],
   "source": [
    "df = pd.read_csv(\"./aws/raw/sensor_High_pH_data.csv\")\n",
    "df = df.drop(['timestamp', 'id', 'serialNumber' ], axis=1)\n",
    "df.head()"
   ]
  },
  {
   "cell_type": "code",
   "execution_count": 9,
   "id": "efb95d8b",
   "metadata": {},
   "outputs": [],
   "source": [
    "df.to_csv('./aws/filtered/high_Ph.csv', index=False)"
   ]
  },
  {
   "cell_type": "code",
   "execution_count": 10,
   "id": "a0b29446",
   "metadata": {},
   "outputs": [
    {
     "data": {
      "text/plain": [
       "['G:\\\\AIT\\\\MLOps\\\\ProjectAnalytics\\\\aws\\\\raw\\\\sensor_Acidic_Waterdata.csv',\n",
       " 'G:\\\\AIT\\\\MLOps\\\\ProjectAnalytics\\\\aws\\\\raw\\\\sensor_clean_data.csv',\n",
       " 'G:\\\\AIT\\\\MLOps\\\\ProjectAnalytics\\\\aws\\\\raw\\\\sensor_data.csv',\n",
       " 'G:\\\\AIT\\\\MLOps\\\\ProjectAnalytics\\\\aws\\\\raw\\\\sensor_Dish_soap_data.csv',\n",
       " 'G:\\\\AIT\\\\MLOps\\\\ProjectAnalytics\\\\aws\\\\raw\\\\sensor_High_pH_data.csv',\n",
       " 'G:\\\\AIT\\\\MLOps\\\\ProjectAnalytics\\\\aws\\\\raw\\\\sensor_Milk_data.csv',\n",
       " 'G:\\\\AIT\\\\MLOps\\\\ProjectAnalytics\\\\aws\\\\raw\\\\sensor_Salt_water_data.csv']"
      ]
     },
     "execution_count": 10,
     "metadata": {},
     "output_type": "execute_result"
    }
   ],
   "source": [
    "directory = r\"G:\\AIT\\MLOps\\ProjectAnalytics\\aws\\raw\"\n",
    "\n",
    "def listFilePath(directory) -> list:\n",
    "    paths = []\n",
    "    for root, dirs, files in os.walk(directory):\n",
    "        for file in files:\n",
    "            full_path = os.path.join(root, file)\n",
    "            paths.append(full_path)\n",
    "    return paths\n",
    "\n",
    "listFilePath(directory)"
   ]
  },
  {
   "cell_type": "code",
   "execution_count": 11,
   "id": "bf09682c",
   "metadata": {},
   "outputs": [
    {
     "name": "stdout",
     "output_type": "stream",
     "text": [
      "sensor_acidic_waterdata.csv\n",
      "sensor_clean_data.csv\n",
      "sensor_data.csv\n",
      "sensor_dish_soap_data.csv\n",
      "sensor_high_ph_data.csv\n",
      "sensor_milk_data.csv\n",
      "sensor_salt_water_data.csv\n"
     ]
    }
   ],
   "source": [
    "directory = r\"G:\\AIT\\MLOps\\ProjectAnalytics\\aws\\raw\"\n",
    "\n",
    "def listFilePath(directory) -> list:\n",
    "    paths = []\n",
    "    for root, dirs, files in os.walk(directory):\n",
    "        for file in files:\n",
    "            full_path = os.path.join(root, file)\n",
    "            paths.append(full_path)\n",
    "    return paths\n",
    "\n",
    "raw_data = listFilePath(directory)\n",
    "for data in raw_data:\n",
    "    df = pd.read_csv(data)\n",
    "    df = df.drop(['timestamp', 'id', 'serialNumber', 'status' ], axis=1)\n",
    "    \n",
    "    filename = os.path.basename(data).lower()\n",
    "    print(filename)\n",
    "\n",
    "    if 'clean' in filename:\n",
    "        df.to_csv('./aws/filtered/clean2_Ph.csv', index=False)\n",
    "    # elif 'dish' in filename:\n",
    "    #     df.to_csv('./aws/filtered/Chemical.csv', index=False)\n",
    "    # elif 'salt' in filename:\n",
    "    #     df.to_csv('./aws/filtered/Salt.csv', index=False)\n",
    "    # elif 'milk' in filename:\n",
    "    #     df.to_csv('./aws/filtered/Organic.csv', index=False)\n",
    "    # elif 'acidic' in filename:\n",
    "    #     df.to_csv('./aws/filtered/low_Ph.csv', index=False)\n",
    "    # else:\n",
    "    #     df.to_csv('./aws/filtered/clean.csv', index=False)"
   ]
  },
  {
   "cell_type": "code",
   "execution_count": null,
   "id": "33155228",
   "metadata": {},
   "outputs": [],
   "source": [
    "\n",
    "    "
   ]
  }
 ],
 "metadata": {
  "kernelspec": {
   "display_name": "Python 3",
   "language": "python",
   "name": "python3"
  },
  "language_info": {
   "codemirror_mode": {
    "name": "ipython",
    "version": 3
   },
   "file_extension": ".py",
   "mimetype": "text/x-python",
   "name": "python",
   "nbconvert_exporter": "python",
   "pygments_lexer": "ipython3",
   "version": "3.11.9"
  }
 },
 "nbformat": 4,
 "nbformat_minor": 5
}
