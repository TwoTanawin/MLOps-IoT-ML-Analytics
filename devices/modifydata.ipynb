{
 "cells": [
  {
   "cell_type": "code",
   "execution_count": 1,
   "id": "71a57388",
   "metadata": {},
   "outputs": [],
   "source": [
    "import pandas as pd"
   ]
  },
  {
   "cell_type": "code",
   "execution_count": 2,
   "id": "b4be2888",
   "metadata": {},
   "outputs": [
    {
     "data": {
      "text/html": [
       "<div>\n",
       "<style scoped>\n",
       "    .dataframe tbody tr th:only-of-type {\n",
       "        vertical-align: middle;\n",
       "    }\n",
       "\n",
       "    .dataframe tbody tr th {\n",
       "        vertical-align: top;\n",
       "    }\n",
       "\n",
       "    .dataframe thead th {\n",
       "        text-align: right;\n",
       "    }\n",
       "</style>\n",
       "<table border=\"1\" class=\"dataframe\">\n",
       "  <thead>\n",
       "    <tr style=\"text-align: right;\">\n",
       "      <th></th>\n",
       "      <th>ph_value</th>\n",
       "      <th>do_value</th>\n",
       "      <th>temp_value</th>\n",
       "      <th>salinity_value</th>\n",
       "      <th>ph_value_filtered</th>\n",
       "      <th>do_value_filtered</th>\n",
       "      <th>temp_value_filtered</th>\n",
       "      <th>salinity_value_filtered</th>\n",
       "      <th>label</th>\n",
       "      <th>status</th>\n",
       "    </tr>\n",
       "  </thead>\n",
       "  <tbody>\n",
       "    <tr>\n",
       "      <th>0</th>\n",
       "      <td>6.7</td>\n",
       "      <td>9.66</td>\n",
       "      <td>28.9</td>\n",
       "      <td>232.6</td>\n",
       "      <td>6.743</td>\n",
       "      <td>9.660</td>\n",
       "      <td>28.9</td>\n",
       "      <td>232.754</td>\n",
       "      <td>0</td>\n",
       "      <td>NaN</td>\n",
       "    </tr>\n",
       "    <tr>\n",
       "      <th>1</th>\n",
       "      <td>9.9</td>\n",
       "      <td>9.65</td>\n",
       "      <td>28.9</td>\n",
       "      <td>224.1</td>\n",
       "      <td>7.216</td>\n",
       "      <td>9.659</td>\n",
       "      <td>28.9</td>\n",
       "      <td>231.502</td>\n",
       "      <td>0</td>\n",
       "      <td>NaN</td>\n",
       "    </tr>\n",
       "    <tr>\n",
       "      <th>2</th>\n",
       "      <td>9.2</td>\n",
       "      <td>9.65</td>\n",
       "      <td>28.9</td>\n",
       "      <td>230.9</td>\n",
       "      <td>7.642</td>\n",
       "      <td>9.658</td>\n",
       "      <td>28.9</td>\n",
       "      <td>230.320</td>\n",
       "      <td>0</td>\n",
       "      <td>NaN</td>\n",
       "    </tr>\n",
       "    <tr>\n",
       "      <th>3</th>\n",
       "      <td>7.5</td>\n",
       "      <td>9.66</td>\n",
       "      <td>28.9</td>\n",
       "      <td>225.8</td>\n",
       "      <td>7.995</td>\n",
       "      <td>9.657</td>\n",
       "      <td>28.9</td>\n",
       "      <td>229.274</td>\n",
       "      <td>0</td>\n",
       "      <td>NaN</td>\n",
       "    </tr>\n",
       "    <tr>\n",
       "      <th>4</th>\n",
       "      <td>9.4</td>\n",
       "      <td>9.65</td>\n",
       "      <td>28.9</td>\n",
       "      <td>227.5</td>\n",
       "      <td>8.260</td>\n",
       "      <td>9.656</td>\n",
       "      <td>28.9</td>\n",
       "      <td>228.407</td>\n",
       "      <td>0</td>\n",
       "      <td>NaN</td>\n",
       "    </tr>\n",
       "  </tbody>\n",
       "</table>\n",
       "</div>"
      ],
      "text/plain": [
       "   ph_value  do_value  temp_value  salinity_value  ph_value_filtered  \\\n",
       "0       6.7      9.66        28.9           232.6              6.743   \n",
       "1       9.9      9.65        28.9           224.1              7.216   \n",
       "2       9.2      9.65        28.9           230.9              7.642   \n",
       "3       7.5      9.66        28.9           225.8              7.995   \n",
       "4       9.4      9.65        28.9           227.5              8.260   \n",
       "\n",
       "   do_value_filtered  temp_value_filtered  salinity_value_filtered  label  \\\n",
       "0              9.660                 28.9                  232.754      0   \n",
       "1              9.659                 28.9                  231.502      0   \n",
       "2              9.658                 28.9                  230.320      0   \n",
       "3              9.657                 28.9                  229.274      0   \n",
       "4              9.656                 28.9                  228.407      0   \n",
       "\n",
       "  status  \n",
       "0    NaN  \n",
       "1    NaN  \n",
       "2    NaN  \n",
       "3    NaN  \n",
       "4    NaN  "
      ]
     },
     "execution_count": 2,
     "metadata": {},
     "output_type": "execute_result"
    }
   ],
   "source": [
    "df = pd.read_csv(r\"G:\\AIT\\MLOps\\ProjectAnalytics\\devices\\filtered_labeled_dataset.csv\")\n",
    "df.head()"
   ]
  },
  {
   "cell_type": "code",
   "execution_count": 3,
   "id": "b7d23c95",
   "metadata": {},
   "outputs": [
    {
     "data": {
      "text/html": [
       "<div>\n",
       "<style scoped>\n",
       "    .dataframe tbody tr th:only-of-type {\n",
       "        vertical-align: middle;\n",
       "    }\n",
       "\n",
       "    .dataframe tbody tr th {\n",
       "        vertical-align: top;\n",
       "    }\n",
       "\n",
       "    .dataframe thead th {\n",
       "        text-align: right;\n",
       "    }\n",
       "</style>\n",
       "<table border=\"1\" class=\"dataframe\">\n",
       "  <thead>\n",
       "    <tr style=\"text-align: right;\">\n",
       "      <th></th>\n",
       "      <th>ph_value_filtered</th>\n",
       "      <th>do_value_filtered</th>\n",
       "      <th>temp_value_filtered</th>\n",
       "      <th>salinity_value_filtered</th>\n",
       "      <th>label</th>\n",
       "    </tr>\n",
       "  </thead>\n",
       "  <tbody>\n",
       "    <tr>\n",
       "      <th>0</th>\n",
       "      <td>6.743</td>\n",
       "      <td>9.660</td>\n",
       "      <td>28.9</td>\n",
       "      <td>232.754</td>\n",
       "      <td>0</td>\n",
       "    </tr>\n",
       "    <tr>\n",
       "      <th>1</th>\n",
       "      <td>7.216</td>\n",
       "      <td>9.659</td>\n",
       "      <td>28.9</td>\n",
       "      <td>231.502</td>\n",
       "      <td>0</td>\n",
       "    </tr>\n",
       "    <tr>\n",
       "      <th>2</th>\n",
       "      <td>7.642</td>\n",
       "      <td>9.658</td>\n",
       "      <td>28.9</td>\n",
       "      <td>230.320</td>\n",
       "      <td>0</td>\n",
       "    </tr>\n",
       "    <tr>\n",
       "      <th>3</th>\n",
       "      <td>7.995</td>\n",
       "      <td>9.657</td>\n",
       "      <td>28.9</td>\n",
       "      <td>229.274</td>\n",
       "      <td>0</td>\n",
       "    </tr>\n",
       "    <tr>\n",
       "      <th>4</th>\n",
       "      <td>8.260</td>\n",
       "      <td>9.656</td>\n",
       "      <td>28.9</td>\n",
       "      <td>228.407</td>\n",
       "      <td>0</td>\n",
       "    </tr>\n",
       "  </tbody>\n",
       "</table>\n",
       "</div>"
      ],
      "text/plain": [
       "   ph_value_filtered  do_value_filtered  temp_value_filtered  \\\n",
       "0              6.743              9.660                 28.9   \n",
       "1              7.216              9.659                 28.9   \n",
       "2              7.642              9.658                 28.9   \n",
       "3              7.995              9.657                 28.9   \n",
       "4              8.260              9.656                 28.9   \n",
       "\n",
       "   salinity_value_filtered  label  \n",
       "0                  232.754      0  \n",
       "1                  231.502      0  \n",
       "2                  230.320      0  \n",
       "3                  229.274      0  \n",
       "4                  228.407      0  "
      ]
     },
     "execution_count": 3,
     "metadata": {},
     "output_type": "execute_result"
    }
   ],
   "source": [
    "df = df.drop(['ph_value', 'do_value', 'temp_value', 'salinity_value', 'status'], axis=1)\n",
    "df.head()"
   ]
  },
  {
   "cell_type": "code",
   "execution_count": 4,
   "id": "87216f8a",
   "metadata": {},
   "outputs": [
    {
     "data": {
      "text/plain": [
       "(2130, 5)"
      ]
     },
     "execution_count": 4,
     "metadata": {},
     "output_type": "execute_result"
    }
   ],
   "source": [
    "df.shape"
   ]
  },
  {
   "cell_type": "code",
   "execution_count": 5,
   "id": "ed8c2889",
   "metadata": {},
   "outputs": [],
   "source": [
    "df_label_0 = df[df['label'] == 0]\n",
    "df_other_labels = df[df['label'] != 0]"
   ]
  },
  {
   "cell_type": "code",
   "execution_count": 6,
   "id": "aec01781",
   "metadata": {},
   "outputs": [],
   "source": [
    "sampled_0 = df_label_0.sample(n=350, random_state=42)\n",
    "sampled_other = df_other_labels.sample(n=150, random_state=42)"
   ]
  },
  {
   "cell_type": "code",
   "execution_count": 7,
   "id": "1f0c17ee",
   "metadata": {},
   "outputs": [],
   "source": [
    "balanced_df = pd.concat([sampled_0, sampled_other]).sample(frac=1, random_state=42).reset_index(drop=True)"
   ]
  },
  {
   "cell_type": "code",
   "execution_count": 8,
   "id": "5f5b8890",
   "metadata": {},
   "outputs": [],
   "source": [
    "balanced_df.to_csv(\"balanced_500_rows.csv\", index=False)"
   ]
  }
 ],
 "metadata": {
  "kernelspec": {
   "display_name": "mlops-analytics",
   "language": "python",
   "name": "python3"
  },
  "language_info": {
   "codemirror_mode": {
    "name": "ipython",
    "version": 3
   },
   "file_extension": ".py",
   "mimetype": "text/x-python",
   "name": "python",
   "nbconvert_exporter": "python",
   "pygments_lexer": "ipython3",
   "version": "3.11.9"
  }
 },
 "nbformat": 4,
 "nbformat_minor": 5
}
